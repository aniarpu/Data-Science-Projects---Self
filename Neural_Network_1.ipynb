{
 "cells": [
  {
   "cell_type": "markdown",
   "metadata": {},
   "source": [
    "# To create basic 2 layer and 3 layer neural networks and train them using Gradient Descent"
   ]
  },
  {
   "cell_type": "code",
   "execution_count": 457,
   "metadata": {
    "collapsed": true,
    "deletable": true,
    "editable": true
   },
   "outputs": [],
   "source": [
    "from numpy import exp, array, random, dot"
   ]
  },
  {
   "cell_type": "code",
   "execution_count": 456,
   "metadata": {
    "collapsed": false,
    "deletable": true,
    "editable": true
   },
   "outputs": [],
   "source": [
    "import pandas as pd\n",
    "import numpy as np\n",
    "from __future__ import print_function"
   ]
  },
  {
   "cell_type": "code",
   "execution_count": 458,
   "metadata": {
    "collapsed": false,
    "deletable": true,
    "editable": true
   },
   "outputs": [],
   "source": [
    "# define a sigmoid function \n",
    "def sigmoid(x):\n",
    "    return 1/(1 + exp(-x))"
   ]
  },
  {
   "cell_type": "code",
   "execution_count": 469,
   "metadata": {
    "collapsed": false,
    "deletable": true,
    "editable": true
   },
   "outputs": [
    {
     "data": {
      "text/plain": [
       "array([[ 2.43235391],\n",
       "       [-0.24071841]])"
      ]
     },
     "execution_count": 469,
     "metadata": {},
     "output_type": "execute_result"
    }
   ],
   "source": [
    "# theta here is the vector of parameters for the features . The parameters have to randomly initialized or else all the \n",
    "# parameters will update to the same value inn ecah iteration of back propagation.\n",
    "\n",
    "theta = 2*3*random.random((2,1)) -3\n",
    "theta"
   ]
  },
  {
   "cell_type": "markdown",
   "metadata": {},
   "source": [
    "# First to create a 2 layer network with 2 input nodes and one output node"
   ]
  },
  {
   "cell_type": "code",
   "execution_count": 460,
   "metadata": {
    "collapsed": false,
    "deletable": true,
    "editable": true
   },
   "outputs": [],
   "source": [
    "# now we are going to write a function to train the neural network. We do this by gradient descent\n",
    "# Formulae used:\n",
    "# output vector = a_2 = sigmoid(x*theta)\n",
    "# the derivative of the cost is to be subtracted from the paramter vector and = (h(x) - y).x_i = (a_2 - y).x_i\n",
    "# keep doing this till the paarmeters converge to the global minimum\n",
    "\n",
    "def train(x,y,n_iter,theta):\n",
    "    for i in np.arange(n_iter):\n",
    "        y_pred = sigmoid(dot(x,theta))\n",
    "        o = y_pred - y\n",
    "        s = theta - dot(x.T,o*((y_pred)*(1 - (y_pred))))\n",
    "    return s\n",
    "    "
   ]
  },
  {
   "cell_type": "code",
   "execution_count": 461,
   "metadata": {
    "collapsed": false,
    "deletable": true,
    "editable": true
   },
   "outputs": [],
   "source": [
    "# these are the training values\n",
    "\n",
    "training_set_inputs = array([[1,0,], [0,1], [0,0]])\n",
    "training_set_outputs = array([[1,1,0]]).T"
   ]
  },
  {
   "cell_type": "code",
   "execution_count": 470,
   "metadata": {
    "collapsed": false,
    "deletable": true,
    "editable": true
   },
   "outputs": [],
   "source": [
    "theta = train(training_set_inputs,training_set_outputs,10000,theta)"
   ]
  },
  {
   "cell_type": "code",
   "execution_count": 471,
   "metadata": {
    "collapsed": false,
    "deletable": true,
    "editable": true
   },
   "outputs": [
    {
     "data": {
      "text/plain": [
       "array([[ 2.43834632],\n",
       "       [-0.102754  ]])"
      ]
     },
     "execution_count": 471,
     "metadata": {},
     "output_type": "execute_result"
    }
   ],
   "source": [
    "theta"
   ]
  },
  {
   "cell_type": "code",
   "execution_count": 472,
   "metadata": {
    "collapsed": false,
    "deletable": true,
    "editable": true
   },
   "outputs": [
    {
     "data": {
      "text/plain": [
       "array([ 2.33559232])"
      ]
     },
     "execution_count": 472,
     "metadata": {},
     "output_type": "execute_result"
    }
   ],
   "source": [
    "# predicting the value for a new set of inputs using the trained network\n",
    "dot([1,1],theta)"
   ]
  },
  {
   "cell_type": "markdown",
   "metadata": {
    "deletable": true,
    "editable": true
   },
   "source": [
    "# Now for a 3 layer network with 3 in put nodes, 4 nodes in the hidden layer and one output node"
   ]
  },
  {
   "cell_type": "code",
   "execution_count": 473,
   "metadata": {
    "collapsed": false,
    "deletable": true,
    "editable": true
   },
   "outputs": [],
   "source": [
    "# This time we have 2 parameter matrices. One for the first layer and the other for the hidden layer.\n",
    "# theta_1 = matrix for layer 1 \n",
    "# theta_2 = matrix for layer 2\n",
    "# They have to be randomly initialized or else in each iteration they will be update dto the same value\n",
    "\n",
    "theta_1 = 2*random.random((3,4)) - 1"
   ]
  },
  {
   "cell_type": "code",
   "execution_count": 474,
   "metadata": {
    "collapsed": false,
    "deletable": true,
    "editable": true
   },
   "outputs": [
    {
     "data": {
      "text/plain": [
       "array([[ 0.09269363,  0.59720718, -0.4285623 , -0.01949295],\n",
       "       [ 0.19822062, -0.96893345,  0.18696282, -0.1326473 ],\n",
       "       [ 0.61472106, -0.36951039,  0.78577742,  0.15571443]])"
      ]
     },
     "execution_count": 474,
     "metadata": {},
     "output_type": "execute_result"
    }
   ],
   "source": [
    "theta_1 "
   ]
  },
  {
   "cell_type": "code",
   "execution_count": 475,
   "metadata": {
    "collapsed": false,
    "deletable": true,
    "editable": true
   },
   "outputs": [],
   "source": [
    "theta_2 = 2*random.random((4,1))  - 1"
   ]
  },
  {
   "cell_type": "code",
   "execution_count": 476,
   "metadata": {
    "collapsed": true,
    "deletable": true,
    "editable": true
   },
   "outputs": [],
   "source": [
    "# these are the training values\n",
    "\n",
    "x_inp = array([[0, 0, 1], [0, 1, 1], [1, 0, 1], [0, 1, 0], [1, 0, 0], [1, 1, 1], [0, 0, 0]])\n",
    "y_inp = array([[0, 1, 1, 1, 1, 0, 0]]).T"
   ]
  },
  {
   "cell_type": "code",
   "execution_count": 479,
   "metadata": {
    "collapsed": false,
    "deletable": true,
    "editable": true
   },
   "outputs": [],
   "source": [
    "# now we are going to write a function to train the neural network. We do this by gradient descent\n",
    "# Formulae used:\n",
    "# hidden layer = a_2 = sigmoid(x*theta_1)\n",
    "# output layer = a_3 = sigmoid(a_2*theta_2)\n",
    "# the derivative of the cost is to be subtracted from the paramter vector \n",
    "# We have to this by BACK PROPAGATION\n",
    "# the gradient can be found with the matrix DELTA \n",
    "# the elements of this matrix are delta_2 and delta_3\n",
    "# delta_3 = a_3 - y\n",
    "# delta_2 = (delta_3*tarnspose(theta_2))*((derivative of sigmoid of (z_2))) = (delta_3*tarnspose(theta_2))*(a_2)(1 - a_2)\n",
    "# we finally have to subtract the following values from the parameter matrices\n",
    "# 1. (transpose(a_2)*delta_3)\n",
    "# 2. (transpose(x)*delta_2)\n",
    "# keep doing this till the paarmeters converge to the global minimum\n",
    "\n",
    "\n",
    "def train_2(x,y,n,theta_1,theta_2):\n",
    "    for i in np.arange(n):\n",
    "        a_2 = sigmoid(dot(x,theta_1))\n",
    "        a_3 = sigmoid(dot(a_2,theta_2))\n",
    "        delta_3 = a_3 - y\n",
    "        delta_2 = dot(delta_3,theta_2.T)*(a_2*(1-a_2))\n",
    "        adj_2 = dot(a_2.T,delta_3) \n",
    "        adj_1 = dot(x.T,delta_2)\n",
    "        theta_1 = theta_1 - adj_1\n",
    "        theta_2 = theta_2 - adj_2\n",
    "           \n",
    "    return theta_1,theta_2"
   ]
  },
  {
   "cell_type": "code",
   "execution_count": 480,
   "metadata": {
    "collapsed": false,
    "deletable": true,
    "editable": true
   },
   "outputs": [],
   "source": [
    "theta_1,theta_2 = train_2(x_inp,y_inp,1000,theta_1,theta_2)"
   ]
  },
  {
   "cell_type": "code",
   "execution_count": 481,
   "metadata": {
    "collapsed": true,
    "deletable": true,
    "editable": true
   },
   "outputs": [],
   "source": [
    "# here we predict the value for a new datum with the trained network \n",
    "\n",
    "b_1 = dot(array([1,1,0]),theta_1)\n",
    "outp = dot(b_1,theta_2)"
   ]
  },
  {
   "cell_type": "code",
   "execution_count": 482,
   "metadata": {
    "collapsed": false,
    "deletable": true,
    "editable": true
   },
   "outputs": [
    {
     "data": {
      "text/plain": [
       "array([ 200.49191412])"
      ]
     },
     "execution_count": 482,
     "metadata": {},
     "output_type": "execute_result"
    }
   ],
   "source": [
    "outp"
   ]
  },
  {
   "cell_type": "markdown",
   "metadata": {
    "deletable": true,
    "editable": true
   },
   "source": [
    "Now just define a threshhold for deciding when it is 1 and when it is 0"
   ]
  },
  {
   "cell_type": "code",
   "execution_count": 446,
   "metadata": {
    "collapsed": false,
    "deletable": true,
    "editable": true
   },
   "outputs": [
    {
     "data": {
      "text/plain": [
       "array([[  2.20463624,   1.96471215,   1.75361684,   0.71336645],\n",
       "       [  1.13858924,   1.3885062 ,   1.80524925,   2.63459102],\n",
       "       [ 14.07208213,  14.07288205,  14.06511942,  14.07295151]])"
      ]
     },
     "execution_count": 446,
     "metadata": {},
     "output_type": "execute_result"
    }
   ],
   "source": [
    "theta_1"
   ]
  },
  {
   "cell_type": "code",
   "execution_count": 447,
   "metadata": {
    "collapsed": false,
    "deletable": true,
    "editable": true
   },
   "outputs": [
    {
     "data": {
      "text/plain": [
       "array([[ 2493.77938279],\n",
       "       [ 2495.27127824],\n",
       "       [ 2494.60507123],\n",
       "       [ 2495.09873652]])"
      ]
     },
     "execution_count": 447,
     "metadata": {},
     "output_type": "execute_result"
    }
   ],
   "source": [
    "theta_2"
   ]
  }
 ],
 "metadata": {
  "kernelspec": {
   "display_name": "Python 2",
   "language": "python",
   "name": "python2"
  },
  "language_info": {
   "codemirror_mode": {
    "name": "ipython",
    "version": 2
   },
   "file_extension": ".py",
   "mimetype": "text/x-python",
   "name": "python",
   "nbconvert_exporter": "python",
   "pygments_lexer": "ipython2",
   "version": "2.7.13"
  }
 },
 "nbformat": 4,
 "nbformat_minor": 2
}
